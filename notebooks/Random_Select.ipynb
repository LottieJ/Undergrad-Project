{
 "cells": [
  {
   "cell_type": "markdown",
   "id": "0e036c90",
   "metadata": {},
   "source": [
    "# Create Fasta files of a set number of sequences of the GH7 family\n",
    "### Use sequences downloaded to the to the database cazycsj5"
   ]
  },
  {
   "cell_type": "markdown",
   "id": "55c22135",
   "metadata": {},
   "source": [
    "## Imports"
   ]
  },
  {
   "cell_type": "code",
   "execution_count": 1,
   "id": "be0f1b34",
   "metadata": {},
   "outputs": [],
   "source": [
    "from Bio import SeqIO\n",
    "from Bio.SeqRecord import SeqRecord\n",
    "import random\n",
    "from saintBioutils.utilities.file_io import make_output_directory\n",
    "from pathlib import Path"
   ]
  },
  {
   "cell_type": "markdown",
   "id": "61bdd27b",
   "metadata": {},
   "source": [
    "## Load in Data"
   ]
  },
  {
   "cell_type": "code",
   "execution_count": 2,
   "id": "2387eff5",
   "metadata": {},
   "outputs": [],
   "source": [
    "infile = \"../Data/GH7seqs/GH7.fasta\""
   ]
  },
  {
   "cell_type": "markdown",
   "id": "6ff46246",
   "metadata": {},
   "source": [
    "## Create Dictionary\n",
    "### Use SeqIO to look through the fasta sequences and write each to a dictionary. The key is the sequence ID and the value is the sequence itself."
   ]
  },
  {
   "cell_type": "code",
   "execution_count": 3,
   "id": "36a642e5",
   "metadata": {},
   "outputs": [],
   "source": [
    "newdict = {} # Create an empty dictionary called newdict.\n",
    "with open(infile, \"r\") as fh: # Opens the GH7 fasta file in read mode.\n",
    "    for record in SeqIO.parse(fh, \"fasta\"): # Cycle through each record in the file\n",
    "        newdict[f\"{record.id}\"] = record.seq # Write the record to the dictionary."
   ]
  },
  {
   "cell_type": "code",
   "execution_count": 4,
   "id": "f40544a4",
   "metadata": {},
   "outputs": [
    {
     "data": {
      "text/plain": [
       "10221"
      ]
     },
     "execution_count": 4,
     "metadata": {},
     "output_type": "execute_result"
    }
   ],
   "source": [
    "len(newdict.keys()) # Check length of the dictionary"
   ]
  },
  {
   "cell_type": "markdown",
   "id": "dd07d34a",
   "metadata": {},
   "source": [
    "## Create file of a specified number of random sequences from GH7\n",
    "### Function creates fasta file of randomly selected GH7 sequences. The number of sequences is chosen as 'nseqs'.\n",
    "### For the file containing 100 sequences,  each entry is written to its own file and stored in Sourmash_input."
   ]
  },
  {
   "cell_type": "code",
   "execution_count": 5,
   "id": "cb99b4d9",
   "metadata": {},
   "outputs": [
    {
     "name": "stderr",
     "output_type": "stream",
     "text": [
      "Output directory ../Data/Sourmash/sourmash_10000 exists, nodelete is False. Deleting content currently in output directory.\n"
     ]
    },
    {
     "name": "stdout",
     "output_type": "stream",
     "text": [
      "selected 10000 sequences\n",
      "2: selected 10000 sequences\n",
      "selected 5000 sequences\n",
      "2: selected 5000 sequences\n"
     ]
    },
    {
     "name": "stderr",
     "output_type": "stream",
     "text": [
      "Output directory ../Data/Sourmash/sourmash_5000 exists, nodelete is False. Deleting content currently in output directory.\n",
      "Output directory ../Data/Sourmash/sourmash_3000 exists, nodelete is False. Deleting content currently in output directory.\n"
     ]
    },
    {
     "name": "stdout",
     "output_type": "stream",
     "text": [
      "selected 3000 sequences\n",
      "2: selected 3000 sequences\n"
     ]
    },
    {
     "name": "stderr",
     "output_type": "stream",
     "text": [
      "Output directory ../Data/Sourmash/sourmash_1000 exists, nodelete is False. Deleting content currently in output directory.\n"
     ]
    },
    {
     "name": "stdout",
     "output_type": "stream",
     "text": [
      "selected 1000 sequences\n",
      "2: selected 1000 sequences\n"
     ]
    },
    {
     "name": "stderr",
     "output_type": "stream",
     "text": [
      "Output directory ../Data/Sourmash/sourmash_500 exists, nodelete is False. Deleting content currently in output directory.\n",
      "Output directory ../Data/Sourmash/sourmash_300 exists, nodelete is False. Deleting content currently in output directory.\n"
     ]
    },
    {
     "name": "stdout",
     "output_type": "stream",
     "text": [
      "selected 500 sequences\n",
      "2: selected 500 sequences\n",
      "selected 300 sequences\n",
      "2: selected 300 sequences\n"
     ]
    },
    {
     "name": "stderr",
     "output_type": "stream",
     "text": [
      "Output directory ../Data/Sourmash/sourmash_100 exists, nodelete is False. Deleting content currently in output directory.\n"
     ]
    },
    {
     "name": "stdout",
     "output_type": "stream",
     "text": [
      "selected 100 sequences\n",
      "2: selected 100 sequences\n",
      "Help on function randomselect in module __main__:\n",
      "\n",
      "randomselect(nseqs, dictionary)\n",
      "    Function randomly picks 'nseqs' number of sequences from the GH7 dictionary and writes them to a \n",
      "    new fasta file. Then it creates invidudule fasta file for each sequence for analysis in Sourmash\n",
      "\n"
     ]
    }
   ],
   "source": [
    "def randomselect(nseqs, dictionary): # Function is called randomselect.\n",
    "    \"\"\"Function randomly picks 'nseqs' number of sequences from the GH7 dictionary and writes them to a \n",
    "    new fasta file. Then it creates invidudule fasta file for each sequence for analysis in Sourmash \"\"\"\n",
    "    newlist = random.choices(list(dictionary.keys()), k=nseqs) \n",
    "    # Create list of 'nseqs' number of randomly selected GH7 \n",
    "    # sequences.\n",
    "    print(f'selected {len(newlist)} sequences')\n",
    "    newseqs = [] # Create empty list called newseqs.\n",
    "    for name in newlist:\n",
    "        seq = dictionary[name]\n",
    "        record = SeqRecord(seq, id=name)\n",
    "        newseqs.append(record)\n",
    "    print(f'2: selected {len(newseqs)} sequences')\n",
    "    SeqIO.write(newseqs, f\"../Data/{nseqs}seqs.fasta\", \"fasta\") \n",
    "    # Write the records in the list newseqs to a fasta file stored in \n",
    "    #Data\n",
    "# Build Sourmash input files\n",
    "    output_dir = Path(f'../Data/Sourmash/sourmash_{nseqs}') # Explain where the output is to be stored.\n",
    "    make_output_directory(output_dir, True, False) \n",
    "    # Create an output folder in the correct storage location which overwrites \n",
    "    # anything that is already there.\n",
    "    for record in newseqs: # Loop to go though the list of chosen sequences.\n",
    "        filepath = output_dir/f\"{record.id}.fasta\" \n",
    "        # Tells the new files to go to Data/Sourmash_input/<sequenceID>.fasta. \n",
    "        with open(filepath, \"w\") as ohandle: # Open the folder and files in write mode.\n",
    "            SeqIO.write([record],ohandle, \"fasta\") # Write the new file to the folder.\n",
    "    return record\n",
    "\n",
    "selected = randomselect(10000, newdict) # Run function for a sequence size of 10000,\n",
    "selected = randomselect(5000, newdict) # 5000,\n",
    "selected = randomselect(3000, newdict) # 3000,\n",
    "selected = randomselect(1000, newdict) # 1000,\n",
    "selected = randomselect(500, newdict) # 500,\n",
    "selected = randomselect(300, newdict) # 300,\n",
    "selected = randomselect(100, newdict) # 100.\n",
    "\n",
    "help(randomselect) # Call functions doc string to explain what the function does."
   ]
  }
 ],
 "metadata": {
  "kernelspec": {
   "display_name": "Python 3 (ipykernel)",
   "language": "python",
   "name": "python3"
  },
  "language_info": {
   "codemirror_mode": {
    "name": "ipython",
    "version": 3
   },
   "file_extension": ".py",
   "mimetype": "text/x-python",
   "name": "python",
   "nbconvert_exporter": "python",
   "pygments_lexer": "ipython3",
   "version": "3.9.13"
  }
 },
 "nbformat": 4,
 "nbformat_minor": 5
}
